{
  "nbformat": 4,
  "nbformat_minor": 0,
  "metadata": {
    "colab": {
      "name": "Untitled5.ipynb",
      "provenance": [],
      "authorship_tag": "ABX9TyNPzNt3EahtUFm3fIoaT03o",
      "include_colab_link": true
    },
    "kernelspec": {
      "name": "python3",
      "display_name": "Python 3"
    }
  },
  "cells": [
    {
      "cell_type": "markdown",
      "metadata": {
        "id": "view-in-github",
        "colab_type": "text"
      },
      "source": [
        "<a href=\"https://colab.research.google.com/github/FARSANAFJ/Deep-Learning-with-Neural-Networks/blob/master/time_series_generation.ipynb\" target=\"_parent\"><img src=\"https://colab.research.google.com/assets/colab-badge.svg\" alt=\"Open In Colab\"/></a>"
      ]
    },
    {
      "cell_type": "code",
      "metadata": {
        "id": "yWFO_ntm2Yug",
        "colab_type": "code",
        "colab": {}
      },
      "source": [
        "def plot_series(time,series,format=\"-\",start=0,end=None,label=None):\n",
        "  plt.plot(time[start:end],series[start:end],format,label=label)\n",
        "  plt.xlabel(\"Time\")\n",
        "  plt.ylabel(\"Value\")\n",
        "  if label:\n",
        "    plt.legend(fontsize=14)\n",
        "    plt.grid(true)\n",
        "                "
      ],
      "execution_count": 0,
      "outputs": []
    },
    {
      "cell_type": "code",
      "metadata": {
        "id": "tSdb9Aa5y_um",
        "colab_type": "code",
        "colab": {}
      },
      "source": [
        "#####trend and seasonality\n",
        "def trend(time,slope=0):\n",
        "  return slop*time\n",
        "  time=np.arrange(4*365+1)\n",
        "  baseline=10\n",
        "  series=trend(time,0.1)\n",
        "  plt.figure(figsize=(10,6))\n",
        "  plot_series(time,series)\n",
        "  plt.show()\n",
        "  "
      ],
      "execution_count": 0,
      "outputs": []
    },
    {
      "cell_type": "code",
      "metadata": {
        "id": "HfWLh8pF09zS",
        "colab_type": "code",
        "colab": {}
      },
      "source": [
        "### time series with seaonal pattern\n",
        "def seasonal_pattern(season_time):\n",
        "  \"\"\" change it\"\"\"\n",
        "  return np.where(season_time<0.4,np.cos(season_time*2*np.pi),1/np.exp(3*season_time))\n",
        "  def seasonality(time,period,amplitude=1,phase=0):\n",
        "    season_time=((time+phase)%period)/period\n",
        "    return amplitude*seasonal_pattern(season_time)\n",
        "    baseline=10\n",
        "    amplitude=40\n",
        "    series=seasonality(time,period=365,amplitude=ampliude)\n",
        "    plt.figure(figsize=(10,6))\n",
        "    plot_series(time,series)\n",
        "    plt.show\n",
        "    slop=0.5\n",
        "    series=baseline+trend(time,slop)+seasonality(time,period=365,amplitude=amplitude)\n",
        "    plt.figure(figsize=(10,6))\n",
        "    plt.show()\n",
        "\n"
      ],
      "execution_count": 0,
      "outputs": []
    }
  ]
}